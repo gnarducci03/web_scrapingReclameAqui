{
 "cells": [
  {
   "cell_type": "code",
   "execution_count": 1,
   "metadata": {},
   "outputs": [],
   "source": [
    "link1 = 'faculdade-projecao/lista-reclamacoes/'\n",
    "link2 = 'faculdade-projecao/lista-reclamacoes/?pagina=2'\n",
    "link3 = 'faculdade-projecao/lista-reclamacoes/?pagina=3'"
   ]
  },
  {
   "cell_type": "code",
   "execution_count": 2,
   "metadata": {},
   "outputs": [],
   "source": [
    "import time\n",
    "from dotenv import load_dotenv\n",
    "import os\n",
    "import pyautogui as pg\n",
    "import pandas as pd\n",
    "from botcity.maestro import *\n",
    "from botcity.core import DesktopBot\n",
    "from botcity.web import WebBot, Browser, By\n",
    "import requests as rq"
   ]
  },
  {
   "cell_type": "code",
   "execution_count": 3,
   "metadata": {},
   "outputs": [],
   "source": [
    "pagina_scraping = pg.confirm(\n",
    "    title='Inicio do Scraping', \n",
    "    text='Escolha uma opção a seguir:',\n",
    "    buttons=['Página 1','Página 2', 'Página 3','Cancelar']    \n",
    ")\n",
    "\n",
    "match pagina_scraping:\n",
    "    case 'Página 1':\n",
    "        url_scraping = f'https://www.reclameaqui.com.br/empresa/{link1}'\n",
    "    case 'Página 2':\n",
    "        url_scraping = f'https://www.reclameaqui.com.br/empresa/{link2}'\n",
    "    case 'Página 3':\n",
    "        url_scraping = f'https://www.reclameaqui.com.br/empresa/{link3}'\n"
   ]
  },
  {
   "cell_type": "code",
   "execution_count": 4,
   "metadata": {},
   "outputs": [
    {
     "name": "stdout",
     "output_type": "stream",
     "text": [
      "Iniciando o scraping\n",
      "Scraping finalizado\n"
     ]
    }
   ],
   "source": [
    "botweb = WebBot()\n",
    "botweb.headless = True\n",
    "botweb.browser = Browser.CHROME\n",
    "botweb.driver_path = \"chromedriver.exe\"\n",
    "\n",
    "titulo_reclamacoes = []\n",
    "descricao_reclamacoes = []\n",
    "link_reclamacoes = []\n",
    "resposta_reclamacoes = []\n",
    "hora_reclamacoes = []\n",
    "\n",
    "def extrair_informacoes(xpath, atributo, lista_destino):\n",
    "    elementos = botweb.find_elements(xpath, by=By.XPATH)\n",
    "    for elemento in elementos:\n",
    "        lista_destino.append(elemento.get_attribute(atributo))\n",
    "\n",
    "botweb.browse(url_scraping)\n",
    "time.sleep(2)\n",
    "print(\"Iniciando o scraping\")\n",
    "    \n",
    "try:\n",
    "    extrair_informacoes('//h4[@class=\"sc-1pe7b5t-1 bVKmkO\"]', 'textContent', titulo_reclamacoes)\n",
    "    extrair_informacoes('//p[@class=\"sc-1pe7b5t-2 eHoNfA\"]', 'textContent', descricao_reclamacoes)\n",
    "    extrair_informacoes('//div[@class=\"sc-1pe7b5t-0 eJgBOc\"]//a', 'href', link_reclamacoes)\n",
    "    extrair_informacoes('//div[@class=\"sc-1pe7b5t-3 gkhqVK\"]//span[1]', 'textContent', resposta_reclamacoes)\n",
    "    extrair_informacoes('//div[@class=\"sc-1pe7b5t-3 gkhqVK\"]//span[2]', 'textContent', hora_reclamacoes)\n",
    "\n",
    "except Exception as e:\n",
    "    print(f\"Houve um erro em {e}\")\n",
    "    botweb.close_page()\n",
    "\n",
    "finally:\n",
    "    print(\"Scraping finalizado\")\n",
    "    botweb.close_page()"
   ]
  },
  {
   "cell_type": "code",
   "execution_count": 6,
   "metadata": {},
   "outputs": [],
   "source": [
    "df = pd.DataFrame({\n",
    "    'titulo_reclamacao': titulo_reclamacoes,\n",
    "    'decricao': descricao_reclamacoes,\n",
    "    'links': link_reclamacoes,\n",
    "    'resposta_empresa': resposta_reclamacoes,\n",
    "    'hora_reclamacao': hora_reclamacoes    \n",
    "})\n",
    "\n",
    "json_data = df.to_json(orient='records', indent=1)\n",
    "json_data = json_data.replace(\"\\\\/\",\"/\")"
   ]
  },
  {
   "cell_type": "code",
   "execution_count": 7,
   "metadata": {},
   "outputs": [
    {
     "name": "stdout",
     "output_type": "stream",
     "text": [
      "Status code:  200\n",
      "Resposta do Servidor:  {'message': 'Workflow was started'}\n"
     ]
    }
   ],
   "source": [
    "data_to_send = {\n",
    "    \"dados_gerais\": json_data,\n",
    "    \"whatsapp\":\"sim\"\n",
    "}\n",
    "\n",
    "load_dotenv()\n",
    "url = os.getenv('url_wh')\n",
    "\n",
    "response = rq.post(url, data=data_to_send)\n",
    "\n",
    "print(\"Status code: \", response.status_code)\n",
    "print(\"Resposta do Servidor: \", response.json())"
   ]
  }
 ],
 "metadata": {
  "kernelspec": {
   "display_name": "Python 3",
   "language": "python",
   "name": "python3"
  },
  "language_info": {
   "codemirror_mode": {
    "name": "ipython",
    "version": 3
   },
   "file_extension": ".py",
   "mimetype": "text/x-python",
   "name": "python",
   "nbconvert_exporter": "python",
   "pygments_lexer": "ipython3",
   "version": "3.12.5"
  }
 },
 "nbformat": 4,
 "nbformat_minor": 2
}
